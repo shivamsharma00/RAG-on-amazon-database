{
 "cells": [
  {
   "cell_type": "markdown",
   "metadata": {},
   "source": [
    "# import the necessary libraries"
   ]
  },
  {
   "cell_type": "code",
   "execution_count": 11,
   "metadata": {},
   "outputs": [],
   "source": [
    "import pandas as pd\n",
    "import re\n",
    "from bs4 import BeautifulSoup\n"
   ]
  },
  {
   "cell_type": "markdown",
   "metadata": {},
   "source": [
    "## define the paths to the datasets\n"
   ]
  },
  {
   "cell_type": "code",
   "execution_count": 3,
   "metadata": {},
   "outputs": [
    {
     "name": "stdout",
     "output_type": "stream",
     "text": [
      "   rating                 title  \\\n",
      "0       5         Pretty locket   \n",
      "1       5                     A   \n",
      "2       2             Two Stars   \n",
      "3       1       Won’t buy again   \n",
      "4       5  I LOVE these glasses   \n",
      "\n",
      "                                                text images        asin  \\\n",
      "0  I think this locket is really pretty. The insi...     []  B00LOPVX74   \n",
      "1                                              Great     []  B07B4JXK8D   \n",
      "2  One of the stones fell out within the first 2 ...     []  B007ZSEQ4Q   \n",
      "3  Crappy socks. Money wasted. Bought to wear wit...     []  B07F2BTFS9   \n",
      "4  I LOVE these glasses!  They fit perfectly over...     []  B00PKRFU4O   \n",
      "\n",
      "  parent_asin                       user_id               timestamp  \\\n",
      "0  B00LOPVX74  AGBFYI2DDIKXC5Y4FARTYDTQBMFQ 2020-01-09 00:06:34.489   \n",
      "1  B07B4JXK8D  AFQLNQNQYFWQZPJQZS6V3NZU4QBQ 2020-12-20 01:04:06.701   \n",
      "2  B007ZSEQ4Q  AHITBJSS7KYUBVZPX7M2WJCOIVKQ 2015-05-23 01:33:48.000   \n",
      "3  B07F2BTFS9  AFVNEEPDEIH5SPUN5BWC6NKL3WNQ 2018-12-31 20:57:27.095   \n",
      "4  B00XESJTDE  AHSPLDNW5OOUK2PLH7GXLACFBZNQ 2015-08-13 14:29:26.000   \n",
      "\n",
      "   helpful_vote  verified_purchase  \n",
      "0             3               True  \n",
      "1             0               True  \n",
      "2             3               True  \n",
      "3             2               True  \n",
      "4             0               True  \n"
     ]
    }
   ],
   "source": [
    "amazon_fashion_dataset_path = \"datasets/Amazon_Fashion.jsonl\"\n",
    "appliances_dataset_path = \"datasets/Appliances.jsonl\"\n",
    "\n",
    "# read the dataset\n",
    "amazon_fashion_dataset = pd.read_json(amazon_fashion_dataset_path, lines=True)\n",
    "\n",
    "# display the first 5 rows of the dataset\n",
    "print(amazon_fashion_dataset.head())"
   ]
  },
  {
   "cell_type": "markdown",
   "metadata": {},
   "source": [
    "## display the info of the dataset\n"
   ]
  },
  {
   "cell_type": "code",
   "execution_count": 4,
   "metadata": {},
   "outputs": [
    {
     "name": "stdout",
     "output_type": "stream",
     "text": [
      "<class 'pandas.core.frame.DataFrame'>\n",
      "RangeIndex: 2500939 entries, 0 to 2500938\n",
      "Data columns (total 10 columns):\n",
      " #   Column             Dtype         \n",
      "---  ------             -----         \n",
      " 0   rating             int64         \n",
      " 1   title              object        \n",
      " 2   text               object        \n",
      " 3   images             object        \n",
      " 4   asin               object        \n",
      " 5   parent_asin        object        \n",
      " 6   user_id            object        \n",
      " 7   timestamp          datetime64[ns]\n",
      " 8   helpful_vote       int64         \n",
      " 9   verified_purchase  bool          \n",
      "dtypes: bool(1), datetime64[ns](1), int64(2), object(6)\n",
      "memory usage: 174.1+ MB\n"
     ]
    }
   ],
   "source": [
    "amazon_fashion_dataset.info()"
   ]
  },
  {
   "cell_type": "code",
   "execution_count": 5,
   "metadata": {},
   "outputs": [
    {
     "name": "stdout",
     "output_type": "stream",
     "text": [
      "   rating              title  \\\n",
      "0       5         Work great   \n",
      "1       5  excellent product   \n",
      "2       5    Happy customer!   \n",
      "3       5      Amazing value   \n",
      "4       5        Dryer parts   \n",
      "\n",
      "                                                text images        asin  \\\n",
      "0              work great. use a new one every month     []  B01N0TQ0OH   \n",
      "1                            Little on the thin side     []  B07DD2DMXB   \n",
      "2                   Quick delivery, fixed the issue!     []  B082W3Z9YK   \n",
      "3  I wasn't sure whether these were worth it or n...     []  B078W2BJY8   \n",
      "4  Easy to install got the product expected to re...     []  B08C9LPCQV   \n",
      "\n",
      "  parent_asin                       user_id               timestamp  \\\n",
      "0  B01N0TQ0OH  AGKHLEW2SOWHNMFQIJGBECAF7INQ 2018-02-22 16:31:48.692   \n",
      "1  B07DD37QPZ  AHWWLSPCJMALVHDDVSUGICL6RUCA 2022-10-02 21:41:03.446   \n",
      "2  B082W3Z9YK  AHZIJGKEWRTAEOZ673G5B3SNXEGQ 2020-12-06 03:30:35.363   \n",
      "3  B078W2BJY8  AFGUPTDFAWOHHL4LZDV27ERDNOYQ 2018-08-12 20:03:04.306   \n",
      "4  B08C9LPCQV  AELFJFAXQERUSMTXJQ6SYFFRDWMA 2021-05-05 01:03:23.754   \n",
      "\n",
      "   helpful_vote  verified_purchase  \n",
      "0             0               True  \n",
      "1             0               True  \n",
      "2             0               True  \n",
      "3             0               True  \n",
      "4             0               True  \n"
     ]
    }
   ],
   "source": [
    "appliances_dataset = pd.read_json(appliances_dataset_path, lines=True)\n",
    "print(appliances_dataset.head())"
   ]
  },
  {
   "cell_type": "markdown",
   "metadata": {},
   "source": [
    "## handling the missing values\n"
   ]
  },
  {
   "cell_type": "code",
   "execution_count": 8,
   "metadata": {},
   "outputs": [],
   "source": [
    "amazon_fashion_dataset = amazon_fashion_dataset.dropna(subset=['title'])\n",
    "appliances_dataset = appliances_dataset.dropna(subset=['title'])\n",
    "\n",
    "amazon_fashion_dataset['title'] = amazon_fashion_dataset['title'].fillna('')\n",
    "appliances_dataset['title'] = appliances_dataset['title'].fillna('')"
   ]
  },
  {
   "cell_type": "markdown",
   "metadata": {},
   "source": [
    "## data cleaning"
   ]
  },
  {
   "cell_type": "code",
   "execution_count": 12,
   "metadata": {},
   "outputs": [],
   "source": [
    "def clean_text(text):\n",
    "    text = BeautifulSoup(text, \"html.parser\").get_text()\n",
    "    text = re.sub(r'[^a-zA-Z]', ' ', text)\n",
    "    text = text.lower()\n",
    "    text = re.sub(r'\\s+', ' ', text)\n",
    "    return text"
   ]
  },
  {
   "cell_type": "code",
   "execution_count": 13,
   "metadata": {},
   "outputs": [
    {
     "name": "stderr",
     "output_type": "stream",
     "text": [
      "c:\\Users\\sshar244\\AppData\\Local\\Programs\\Python\\Python311\\Lib\\site-packages\\bs4\\__init__.py:435: MarkupResemblesLocatorWarning: The input looks more like a filename than markup. You may want to open this file and pass the filehandle into Beautiful Soup.\n",
      "  warnings.warn(\n",
      "c:\\Users\\sshar244\\AppData\\Local\\Programs\\Python\\Python311\\Lib\\site-packages\\bs4\\__init__.py:404: MarkupResemblesLocatorWarning: The input looks more like a URL than markup. You may want to use an HTTP client like requests to get the document behind the URL, and feed that document to Beautiful Soup.\n",
      "  warnings.warn(\n"
     ]
    }
   ],
   "source": [
    "amazon_fashion_dataset['title'] = amazon_fashion_dataset['title'].apply(clean_text)\n",
    "appliances_dataset['title'] = appliances_dataset['title'].apply(clean_text)"
   ]
  },
  {
   "cell_type": "markdown",
   "metadata": {},
   "source": [
    "## Parsing Dates and Types\n",
    "Ensuring all data types are correct for efficient processing, storage and querying\n"
   ]
  },
  {
   "cell_type": "code",
   "execution_count": 14,
   "metadata": {},
   "outputs": [],
   "source": [
    "def parse_dates(df):\n",
    "    timestamp_column = \"timestamp\"\n",
    "    rating_column = \"rating\"\n",
    "    verified_purchase_column = \"verified_purchase\"\n",
    "\n",
    "    df[timestamp_column] = pd.to_datetime(df[timestamp_column])\n",
    "    df[rating_column] = df[rating_column].astype(int)\n",
    "    df[verified_purchase_column] = df[verified_purchase_column].astype(bool)\n",
    "    return df\n"
   ]
  },
  {
   "cell_type": "code",
   "execution_count": null,
   "metadata": {},
   "outputs": [],
   "source": [
    "amazon_fashion_dataset = parse_dates(amazon_fashion_dataset)\n",
    "appliances_dataset = parse_dates(appliances_dataset)"
   ]
  },
  {
   "cell_type": "code",
   "execution_count": null,
   "metadata": {},
   "outputs": [],
   "source": []
  },
  {
   "cell_type": "code",
   "execution_count": null,
   "metadata": {},
   "outputs": [],
   "source": []
  },
  {
   "cell_type": "code",
   "execution_count": null,
   "metadata": {},
   "outputs": [],
   "source": []
  },
  {
   "cell_type": "code",
   "execution_count": null,
   "metadata": {},
   "outputs": [],
   "source": []
  },
  {
   "cell_type": "code",
   "execution_count": null,
   "metadata": {},
   "outputs": [],
   "source": []
  },
  {
   "cell_type": "code",
   "execution_count": null,
   "metadata": {},
   "outputs": [],
   "source": []
  },
  {
   "cell_type": "code",
   "execution_count": null,
   "metadata": {},
   "outputs": [],
   "source": []
  },
  {
   "cell_type": "code",
   "execution_count": null,
   "metadata": {},
   "outputs": [],
   "source": []
  },
  {
   "cell_type": "code",
   "execution_count": null,
   "metadata": {},
   "outputs": [],
   "source": []
  },
  {
   "cell_type": "code",
   "execution_count": null,
   "metadata": {},
   "outputs": [],
   "source": []
  },
  {
   "cell_type": "code",
   "execution_count": null,
   "metadata": {},
   "outputs": [],
   "source": []
  },
  {
   "cell_type": "code",
   "execution_count": null,
   "metadata": {},
   "outputs": [],
   "source": []
  },
  {
   "cell_type": "code",
   "execution_count": null,
   "metadata": {},
   "outputs": [],
   "source": []
  }
 ],
 "metadata": {
  "kernelspec": {
   "display_name": "Python 3",
   "language": "python",
   "name": "python3"
  },
  "language_info": {
   "codemirror_mode": {
    "name": "ipython",
    "version": 3
   },
   "file_extension": ".py",
   "mimetype": "text/x-python",
   "name": "python",
   "nbconvert_exporter": "python",
   "pygments_lexer": "ipython3",
   "version": "3.11.1"
  }
 },
 "nbformat": 4,
 "nbformat_minor": 2
}
